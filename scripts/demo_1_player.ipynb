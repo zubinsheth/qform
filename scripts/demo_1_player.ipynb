{
 "cells": [
  {
   "cell_type": "markdown",
   "metadata": {},
   "source": [
    "Zubin Sheth's CCS on Sports Analytics\n",
    "First attempt to quanitfy cricket players's 'form' using RFM as a metric."
   ]
  },
  {
   "cell_type": "markdown",
   "metadata": {},
   "source": [
    "Enter inputs below."
   ]
  },
  {
   "cell_type": "code",
   "execution_count": 18,
   "metadata": {},
   "outputs": [],
   "source": [
    "TEAM = 'Royal Challengers Bangalore'\n",
    "SEASON = 2017\n",
    "PLAYER = 'V Kohli'\n",
    "#PLAYER = 'N Rana'\n",
    "favorable_score = 30"
   ]
  },
  {
   "cell_type": "code",
   "execution_count": 19,
   "metadata": {},
   "outputs": [],
   "source": [
    "# Print all outputs in a block - not just the last one\n",
    "from IPython.core.interactiveshell import InteractiveShell\n",
    "InteractiveShell.ast_node_interactivity = \"all\"\n",
    "\n",
    "# standard imports\n",
    "import pandas as pd\n",
    "import numpy as np\n",
    "from matplotlib import pyplot as plt"
   ]
  },
  {
   "cell_type": "code",
   "execution_count": 20,
   "metadata": {},
   "outputs": [
    {
     "output_type": "execute_result",
     "data": {
      "text/plain": "   id  season       city        date                        team1  \\\n0   1    2017  Hyderabad  2017-04-05          Sunrisers Hyderabad   \n1   2    2017       Pune  2017-04-06               Mumbai Indians   \n2   3    2017     Rajkot  2017-04-07                Gujarat Lions   \n3   4    2017     Indore  2017-04-08       Rising Pune Supergiant   \n4   5    2017  Bangalore  2017-04-08  Royal Challengers Bangalore   \n\n                         team2                  toss_winner toss_decision  \\\n0  Royal Challengers Bangalore  Royal Challengers Bangalore         field   \n1       Rising Pune Supergiant       Rising Pune Supergiant         field   \n2        Kolkata Knight Riders        Kolkata Knight Riders         field   \n3              Kings XI Punjab              Kings XI Punjab         field   \n4             Delhi Daredevils  Royal Challengers Bangalore           bat   \n\n   result  dl_applied                       winner  win_by_runs  \\\n0  normal           0          Sunrisers Hyderabad           35   \n1  normal           0       Rising Pune Supergiant            0   \n2  normal           0        Kolkata Knight Riders            0   \n3  normal           0              Kings XI Punjab            0   \n4  normal           0  Royal Challengers Bangalore           15   \n\n   win_by_wickets player_of_match                                      venue  \\\n0               0    Yuvraj Singh  Rajiv Gandhi International Stadium, Uppal   \n1               7       SPD Smith    Maharashtra Cricket Association Stadium   \n2              10         CA Lynn     Saurashtra Cricket Association Stadium   \n3               6      GJ Maxwell                     Holkar Cricket Stadium   \n4               0       KM Jadhav                      M Chinnaswamy Stadium   \n\n          umpire1        umpire2  umpire3  \n0     AY Dandekar       NJ Llong      NaN  \n1  A Nand Kishore         S Ravi      NaN  \n2     Nitin Menon      CK Nandan      NaN  \n3    AK Chaudhary  C Shamshuddin      NaN  \n4             NaN            NaN      NaN  ",
      "text/html": "<div>\n<style scoped>\n    .dataframe tbody tr th:only-of-type {\n        vertical-align: middle;\n    }\n\n    .dataframe tbody tr th {\n        vertical-align: top;\n    }\n\n    .dataframe thead th {\n        text-align: right;\n    }\n</style>\n<table border=\"1\" class=\"dataframe\">\n  <thead>\n    <tr style=\"text-align: right;\">\n      <th></th>\n      <th>id</th>\n      <th>season</th>\n      <th>city</th>\n      <th>date</th>\n      <th>team1</th>\n      <th>team2</th>\n      <th>toss_winner</th>\n      <th>toss_decision</th>\n      <th>result</th>\n      <th>dl_applied</th>\n      <th>winner</th>\n      <th>win_by_runs</th>\n      <th>win_by_wickets</th>\n      <th>player_of_match</th>\n      <th>venue</th>\n      <th>umpire1</th>\n      <th>umpire2</th>\n      <th>umpire3</th>\n    </tr>\n  </thead>\n  <tbody>\n    <tr>\n      <th>0</th>\n      <td>1</td>\n      <td>2017</td>\n      <td>Hyderabad</td>\n      <td>2017-04-05</td>\n      <td>Sunrisers Hyderabad</td>\n      <td>Royal Challengers Bangalore</td>\n      <td>Royal Challengers Bangalore</td>\n      <td>field</td>\n      <td>normal</td>\n      <td>0</td>\n      <td>Sunrisers Hyderabad</td>\n      <td>35</td>\n      <td>0</td>\n      <td>Yuvraj Singh</td>\n      <td>Rajiv Gandhi International Stadium, Uppal</td>\n      <td>AY Dandekar</td>\n      <td>NJ Llong</td>\n      <td>NaN</td>\n    </tr>\n    <tr>\n      <th>1</th>\n      <td>2</td>\n      <td>2017</td>\n      <td>Pune</td>\n      <td>2017-04-06</td>\n      <td>Mumbai Indians</td>\n      <td>Rising Pune Supergiant</td>\n      <td>Rising Pune Supergiant</td>\n      <td>field</td>\n      <td>normal</td>\n      <td>0</td>\n      <td>Rising Pune Supergiant</td>\n      <td>0</td>\n      <td>7</td>\n      <td>SPD Smith</td>\n      <td>Maharashtra Cricket Association Stadium</td>\n      <td>A Nand Kishore</td>\n      <td>S Ravi</td>\n      <td>NaN</td>\n    </tr>\n    <tr>\n      <th>2</th>\n      <td>3</td>\n      <td>2017</td>\n      <td>Rajkot</td>\n      <td>2017-04-07</td>\n      <td>Gujarat Lions</td>\n      <td>Kolkata Knight Riders</td>\n      <td>Kolkata Knight Riders</td>\n      <td>field</td>\n      <td>normal</td>\n      <td>0</td>\n      <td>Kolkata Knight Riders</td>\n      <td>0</td>\n      <td>10</td>\n      <td>CA Lynn</td>\n      <td>Saurashtra Cricket Association Stadium</td>\n      <td>Nitin Menon</td>\n      <td>CK Nandan</td>\n      <td>NaN</td>\n    </tr>\n    <tr>\n      <th>3</th>\n      <td>4</td>\n      <td>2017</td>\n      <td>Indore</td>\n      <td>2017-04-08</td>\n      <td>Rising Pune Supergiant</td>\n      <td>Kings XI Punjab</td>\n      <td>Kings XI Punjab</td>\n      <td>field</td>\n      <td>normal</td>\n      <td>0</td>\n      <td>Kings XI Punjab</td>\n      <td>0</td>\n      <td>6</td>\n      <td>GJ Maxwell</td>\n      <td>Holkar Cricket Stadium</td>\n      <td>AK Chaudhary</td>\n      <td>C Shamshuddin</td>\n      <td>NaN</td>\n    </tr>\n    <tr>\n      <th>4</th>\n      <td>5</td>\n      <td>2017</td>\n      <td>Bangalore</td>\n      <td>2017-04-08</td>\n      <td>Royal Challengers Bangalore</td>\n      <td>Delhi Daredevils</td>\n      <td>Royal Challengers Bangalore</td>\n      <td>bat</td>\n      <td>normal</td>\n      <td>0</td>\n      <td>Royal Challengers Bangalore</td>\n      <td>15</td>\n      <td>0</td>\n      <td>KM Jadhav</td>\n      <td>M Chinnaswamy Stadium</td>\n      <td>NaN</td>\n      <td>NaN</td>\n      <td>NaN</td>\n    </tr>\n  </tbody>\n</table>\n</div>"
     },
     "metadata": {},
     "execution_count": 20
    },
    {
     "output_type": "execute_result",
     "data": {
      "text/plain": "array([ 1,  5,  8, 12, 17, 20, 27, 30, 33, 37, 42, 45, 55])"
     },
     "metadata": {},
     "execution_count": 20
    }
   ],
   "source": [
    "# Source match level data \n",
    "matches_data=pd.read_csv('../data/matches.csv')\n",
    "matches_data.head(5)\n",
    "#matches_data.dtypes\n",
    "\n",
    "# Getting all 2017 matches from the dataset for RCB home and away matches\n",
    "ids2017 = matches_data.loc[(matches_data['season'] == SEASON) & ((matches_data['team1'] == TEAM) | (matches_data['team2'] == TEAM))]\n",
    "ids2017 = ids2017['id'].unique()\n",
    "ids2017"
   ]
  },
  {
   "cell_type": "code",
   "execution_count": 21,
   "metadata": {},
   "outputs": [
    {
     "output_type": "execute_result",
     "data": {
      "text/plain": "   match_id  inning         batting_team                 bowling_team  over  \\\n0         1       1  Sunrisers Hyderabad  Royal Challengers Bangalore     1   \n\n   ball    batsman non_striker    bowler  is_super_over  ...  bye_runs  \\\n0     1  DA Warner    S Dhawan  TS Mills              0  ...         0   \n\n   legbye_runs  noball_runs  penalty_runs  batsman_runs  extra_runs  \\\n0            0            0             0             0           0   \n\n   total_runs  player_dismissed dismissal_kind fielder  \n0           0               NaN            NaN     NaN  \n\n[1 rows x 21 columns]",
      "text/html": "<div>\n<style scoped>\n    .dataframe tbody tr th:only-of-type {\n        vertical-align: middle;\n    }\n\n    .dataframe tbody tr th {\n        vertical-align: top;\n    }\n\n    .dataframe thead th {\n        text-align: right;\n    }\n</style>\n<table border=\"1\" class=\"dataframe\">\n  <thead>\n    <tr style=\"text-align: right;\">\n      <th></th>\n      <th>match_id</th>\n      <th>inning</th>\n      <th>batting_team</th>\n      <th>bowling_team</th>\n      <th>over</th>\n      <th>ball</th>\n      <th>batsman</th>\n      <th>non_striker</th>\n      <th>bowler</th>\n      <th>is_super_over</th>\n      <th>...</th>\n      <th>bye_runs</th>\n      <th>legbye_runs</th>\n      <th>noball_runs</th>\n      <th>penalty_runs</th>\n      <th>batsman_runs</th>\n      <th>extra_runs</th>\n      <th>total_runs</th>\n      <th>player_dismissed</th>\n      <th>dismissal_kind</th>\n      <th>fielder</th>\n    </tr>\n  </thead>\n  <tbody>\n    <tr>\n      <th>0</th>\n      <td>1</td>\n      <td>1</td>\n      <td>Sunrisers Hyderabad</td>\n      <td>Royal Challengers Bangalore</td>\n      <td>1</td>\n      <td>1</td>\n      <td>DA Warner</td>\n      <td>S Dhawan</td>\n      <td>TS Mills</td>\n      <td>0</td>\n      <td>...</td>\n      <td>0</td>\n      <td>0</td>\n      <td>0</td>\n      <td>0</td>\n      <td>0</td>\n      <td>0</td>\n      <td>0</td>\n      <td>NaN</td>\n      <td>NaN</td>\n      <td>NaN</td>\n    </tr>\n  </tbody>\n</table>\n<p>1 rows × 21 columns</p>\n</div>"
     },
     "metadata": {},
     "execution_count": 21
    }
   ],
   "source": [
    "# Source ball by ball level data\n",
    "ball_data=pd.read_csv('../data/deliveries.csv')\n",
    "#list(ball_data)\n",
    "#ball_data.iloc[0]\n",
    "ball_data.head(1)\n",
    "#ball_data['batsman'].unique()"
   ]
  },
  {
   "cell_type": "code",
   "execution_count": 22,
   "metadata": {},
   "outputs": [
    {
     "output_type": "execute_result",
     "data": {
      "text/plain": "      match_id  inning  over  batsman_runs\n2590        12       1     1             0\n2591        12       1     1             1\n2593        12       1     1             0\n2594        12       1     1             1\n2597        12       1     2             0",
      "text/html": "<div>\n<style scoped>\n    .dataframe tbody tr th:only-of-type {\n        vertical-align: middle;\n    }\n\n    .dataframe tbody tr th {\n        vertical-align: top;\n    }\n\n    .dataframe thead th {\n        text-align: right;\n    }\n</style>\n<table border=\"1\" class=\"dataframe\">\n  <thead>\n    <tr style=\"text-align: right;\">\n      <th></th>\n      <th>match_id</th>\n      <th>inning</th>\n      <th>over</th>\n      <th>batsman_runs</th>\n    </tr>\n  </thead>\n  <tbody>\n    <tr>\n      <th>2590</th>\n      <td>12</td>\n      <td>1</td>\n      <td>1</td>\n      <td>0</td>\n    </tr>\n    <tr>\n      <th>2591</th>\n      <td>12</td>\n      <td>1</td>\n      <td>1</td>\n      <td>1</td>\n    </tr>\n    <tr>\n      <th>2593</th>\n      <td>12</td>\n      <td>1</td>\n      <td>1</td>\n      <td>0</td>\n    </tr>\n    <tr>\n      <th>2594</th>\n      <td>12</td>\n      <td>1</td>\n      <td>1</td>\n      <td>1</td>\n    </tr>\n    <tr>\n      <th>2597</th>\n      <td>12</td>\n      <td>1</td>\n      <td>2</td>\n      <td>0</td>\n    </tr>\n  </tbody>\n</table>\n</div>"
     },
     "metadata": {},
     "execution_count": 22
    }
   ],
   "source": [
    "# Getting all player (Virat Kohli) data\n",
    "vk = ball_data.loc[ ( ball_data['match_id'].isin(ids2017) )]\n",
    "vk = vk.loc[ ( vk['batting_team'] == TEAM)]\n",
    "vk = vk.loc[ ( vk['batsman'] == PLAYER )]\n",
    "vk = vk[['match_id', 'inning', 'over', 'batsman_runs']]\n",
    "vk.head(5)"
   ]
  },
  {
   "cell_type": "code",
   "execution_count": 23,
   "metadata": {},
   "outputs": [
    {
     "output_type": "execute_result",
     "data": {
      "text/plain": "          batsman_runs  match_num\nmatch_id                         \n12                  62         10\n17                  28          9\n20                  64          8\n27                   0          7\n30                  10          6\n33                  55          5\n37                  20          4\n42                   6          3\n45                   5          2\n55                  58          1",
      "text/html": "<div>\n<style scoped>\n    .dataframe tbody tr th:only-of-type {\n        vertical-align: middle;\n    }\n\n    .dataframe tbody tr th {\n        vertical-align: top;\n    }\n\n    .dataframe thead th {\n        text-align: right;\n    }\n</style>\n<table border=\"1\" class=\"dataframe\">\n  <thead>\n    <tr style=\"text-align: right;\">\n      <th></th>\n      <th>batsman_runs</th>\n      <th>match_num</th>\n    </tr>\n    <tr>\n      <th>match_id</th>\n      <th></th>\n      <th></th>\n    </tr>\n  </thead>\n  <tbody>\n    <tr>\n      <th>12</th>\n      <td>62</td>\n      <td>10</td>\n    </tr>\n    <tr>\n      <th>17</th>\n      <td>28</td>\n      <td>9</td>\n    </tr>\n    <tr>\n      <th>20</th>\n      <td>64</td>\n      <td>8</td>\n    </tr>\n    <tr>\n      <th>27</th>\n      <td>0</td>\n      <td>7</td>\n    </tr>\n    <tr>\n      <th>30</th>\n      <td>10</td>\n      <td>6</td>\n    </tr>\n    <tr>\n      <th>33</th>\n      <td>55</td>\n      <td>5</td>\n    </tr>\n    <tr>\n      <th>37</th>\n      <td>20</td>\n      <td>4</td>\n    </tr>\n    <tr>\n      <th>42</th>\n      <td>6</td>\n      <td>3</td>\n    </tr>\n    <tr>\n      <th>45</th>\n      <td>5</td>\n      <td>2</td>\n    </tr>\n    <tr>\n      <th>55</th>\n      <td>58</td>\n      <td>1</td>\n    </tr>\n  </tbody>\n</table>\n</div>"
     },
     "metadata": {},
     "execution_count": 23
    }
   ],
   "source": [
    "# Sum up all runs per match\n",
    "vk = pd.pivot_table(vk, index=['match_id'], values=['batsman_runs'], aggfunc=np.sum)\n",
    "vk['match_num'] = np.arange(len(vk))\n",
    "vk['match_num'] = len(vk) - vk['match_num']\n",
    "vk"
   ]
  },
  {
   "cell_type": "code",
   "execution_count": 24,
   "metadata": {},
   "outputs": [],
   "source": [
    "# Func to check for eligibility based on threshold\n",
    "# Return 1 if greater than condition matches else 0\n",
    "def score(row, col, threshold):\n",
    "    if(row[col] >= threshold):\n",
    "        return 1\n",
    "    else:\n",
    "        return 0"
   ]
  },
  {
   "cell_type": "code",
   "execution_count": 25,
   "metadata": {},
   "outputs": [
    {
     "output_type": "execute_result",
     "data": {
      "text/plain": "          batsman_runs  match_num  eligible  recency_score\nmatch_id                                                  \n12                  62         10         1          0.100\n17                  28          9         0          0.000\n20                  64          8         1          0.125\n27                   0          7         0          0.000\n30                  10          6         0          0.000\n33                  55          5         1          0.200\n37                  20          4         0          0.000\n42                   6          3         0          0.000\n45                   5          2         0          0.000\n55                  58          1         1          1.000",
      "text/html": "<div>\n<style scoped>\n    .dataframe tbody tr th:only-of-type {\n        vertical-align: middle;\n    }\n\n    .dataframe tbody tr th {\n        vertical-align: top;\n    }\n\n    .dataframe thead th {\n        text-align: right;\n    }\n</style>\n<table border=\"1\" class=\"dataframe\">\n  <thead>\n    <tr style=\"text-align: right;\">\n      <th></th>\n      <th>batsman_runs</th>\n      <th>match_num</th>\n      <th>eligible</th>\n      <th>recency_score</th>\n    </tr>\n    <tr>\n      <th>match_id</th>\n      <th></th>\n      <th></th>\n      <th></th>\n      <th></th>\n    </tr>\n  </thead>\n  <tbody>\n    <tr>\n      <th>12</th>\n      <td>62</td>\n      <td>10</td>\n      <td>1</td>\n      <td>0.100</td>\n    </tr>\n    <tr>\n      <th>17</th>\n      <td>28</td>\n      <td>9</td>\n      <td>0</td>\n      <td>0.000</td>\n    </tr>\n    <tr>\n      <th>20</th>\n      <td>64</td>\n      <td>8</td>\n      <td>1</td>\n      <td>0.125</td>\n    </tr>\n    <tr>\n      <th>27</th>\n      <td>0</td>\n      <td>7</td>\n      <td>0</td>\n      <td>0.000</td>\n    </tr>\n    <tr>\n      <th>30</th>\n      <td>10</td>\n      <td>6</td>\n      <td>0</td>\n      <td>0.000</td>\n    </tr>\n    <tr>\n      <th>33</th>\n      <td>55</td>\n      <td>5</td>\n      <td>1</td>\n      <td>0.200</td>\n    </tr>\n    <tr>\n      <th>37</th>\n      <td>20</td>\n      <td>4</td>\n      <td>0</td>\n      <td>0.000</td>\n    </tr>\n    <tr>\n      <th>42</th>\n      <td>6</td>\n      <td>3</td>\n      <td>0</td>\n      <td>0.000</td>\n    </tr>\n    <tr>\n      <th>45</th>\n      <td>5</td>\n      <td>2</td>\n      <td>0</td>\n      <td>0.000</td>\n    </tr>\n    <tr>\n      <th>55</th>\n      <td>58</td>\n      <td>1</td>\n      <td>1</td>\n      <td>1.000</td>\n    </tr>\n  </tbody>\n</table>\n</div>"
     },
     "metadata": {},
     "execution_count": 25
    }
   ],
   "source": [
    "# For all eligible scores (eligible is score > favorable score)\n",
    "vk['eligible'] = vk.apply(lambda row: score(row, 'batsman_runs', favorable_score), axis=1)\n",
    "vk['recency_score'] = vk['eligible'] / vk['match_num']\n",
    "vk"
   ]
  },
  {
   "cell_type": "code",
   "execution_count": 26,
   "metadata": {},
   "outputs": [
    {
     "output_type": "execute_result",
     "data": {
      "text/plain": "0.14250000000000002"
     },
     "metadata": {},
     "execution_count": 26
    }
   ],
   "source": [
    "# recency score\n",
    "final_recency_score = np.sum(vk['recency_score'] / len(vk['recency_score']))\n",
    "final_recency_score"
   ]
  },
  {
   "cell_type": "code",
   "execution_count": 27,
   "metadata": {},
   "outputs": [
    {
     "output_type": "execute_result",
     "data": {
      "text/plain": "0.4"
     },
     "metadata": {},
     "execution_count": 27
    }
   ],
   "source": [
    "# frequency score\n",
    "final_frequency_score = np.sum(vk['eligible'] / len(vk['eligible']))\n",
    "final_frequency_score"
   ]
  },
  {
   "cell_type": "code",
   "execution_count": 28,
   "metadata": {},
   "outputs": [
    {
     "output_type": "execute_result",
     "data": {
      "text/plain": "23.9"
     },
     "metadata": {},
     "execution_count": 28
    }
   ],
   "source": [
    "# monetory score\n",
    "final_monetory_score = np.sum(vk['eligible'] * vk['batsman_runs']) / len(vk['eligible'])\n",
    "final_monetory_score"
   ]
  },
  {
   "cell_type": "code",
   "execution_count": 29,
   "metadata": {},
   "outputs": [
    {
     "output_type": "execute_result",
     "data": {
      "text/plain": "24.4425"
     },
     "metadata": {},
     "execution_count": 29
    }
   ],
   "source": [
    "# final rfm score\n",
    "rfm_score = final_recency_score + final_frequency_score + final_monetory_score\n",
    "rfm_score"
   ]
  },
  {
   "cell_type": "code",
   "execution_count": null,
   "metadata": {},
   "outputs": [],
   "source": []
  }
 ],
 "metadata": {
  "language_info": {
   "codemirror_mode": {
    "name": "ipython",
    "version": 3
   },
   "file_extension": ".py",
   "mimetype": "text/x-python",
   "name": "python",
   "nbconvert_exporter": "python",
   "pygments_lexer": "ipython3",
   "version": "3.8.2-final"
  },
  "orig_nbformat": 2,
  "kernelspec": {
   "name": "python38264bitb8cfc2b3f1684cf18108e558b3e18166",
   "display_name": "Python 3.8.2 64-bit"
  }
 },
 "nbformat": 4,
 "nbformat_minor": 2
}